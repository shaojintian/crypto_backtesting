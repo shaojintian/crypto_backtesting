{
 "cells": [
  {
   "cell_type": "code",
   "execution_count": 1,
   "metadata": {},
   "outputs": [],
   "source": [
    "# 置换检验\n",
    "import numpy as np \n",
    "import pandas as pd\n",
    "from scipy.stats import pearsonr\n",
    "\n",
    "def permutation_test(x, y, n_permutations=100) -> float:\n",
    "    \"\"\"执行置换检验以评估x和y之间的关系是否显著。\n",
    "    -----------------------------------------\n",
    "    Params:\n",
    "    x (ndarray): original factor Series\n",
    "    y (ndarray): Future return series\n",
    "    n_permutations (int): numbers of permutation\n",
    "    -----------------------------------------\n",
    "    Return:\n",
    "    p_value (float): p_value,the smaller,the better\n",
    "    -----------------------------------------\"\"\"\n",
    "\n",
    "    original_corr = pearsonr(x, y)[0]  # 计算原始数据的相关系数\n",
    "\n",
    "    permuted_x = np.empty((n_permutations, len(x)))  # 创建所有置换的矩阵\n",
    "    for i in range(n_permutations):\n",
    "        permuted_x[i] = np.random.permutation(x)\n",
    "\n",
    "    # 计算所有置换的相关系数\n",
    "    permuted_corrs = np.array([pearsonr(permuted_x[i], y)[0] for i in range(n_permutations)])\n",
    "    p_value = np.mean(np.abs(permuted_corrs) >= np.abs(original_corr))  # 我们期待p值越小越好\n",
    "    return p_value"
   ]
  },
  {
   "cell_type": "code",
   "execution_count": 2,
   "metadata": {},
   "outputs": [],
   "source": [
    "# ic和sharp\n",
    "def cal_ic(x,y):\n",
    "    '''计算ic'''\n",
    "    return np.corrcoef(x,y)[0,1]\n",
    "def cal_sharp(x,y):\n",
    "    '''计算Sharp,x为仓位,y为未来一个周期收益率'''\n",
    "    trading_days = 252\n",
    "    net_values = 1+(x*y).cumsum()\n",
    "    returns = (net_values[1:]-net_values[:-1])/net_values[:-1]\n",
    "    ret_mean = returns.mean()\n",
    "    ret_std = returns.std()\n",
    "    risk_free = 0.03\n",
    "    sharp = (ret_mean*trading_days-risk_free)/ret_std*np.sqrt(trading_days)\n",
    "    return sharp"
   ]
  },
  {
   "cell_type": "code",
   "execution_count": 3,
   "metadata": {},
   "outputs": [],
   "source": [
    "# 一道面试题，怎么计算滚动的ic？\n",
    "import talib as ta\n",
    "def rolling_ic_1(x,y):\n",
    "    '''x、y是ndarray数组'''\n",
    "    return ta.CORREL(x,y,10)\n",
    "def rolling_ic_2(x,y):\n",
    "    '''x、y是pdseries'''\n",
    "    return x.rolling(10).corr(y)\n"
   ]
  },
  {
   "cell_type": "code",
   "execution_count": 5,
   "metadata": {},
   "outputs": [],
   "source": [
    "# 因子的自相关性检验\n",
    "# 设置窗口大小，例如窗口大小为3\n",
    "def rolling_autoic(x):\n",
    "    window_size = 10\n",
    "    rolling_autocorrelation = x.rolling(window=window_size).apply(lambda x: x.autocorr(lag=1))\n",
    "    return rolling_autocorrelation"
   ]
  }
 ],
 "metadata": {
  "kernelspec": {
   "display_name": "Python 3",
   "language": "python",
   "name": "python3"
  },
  "language_info": {
   "codemirror_mode": {
    "name": "ipython",
    "version": 3
   },
   "file_extension": ".py",
   "mimetype": "text/x-python",
   "name": "python",
   "nbconvert_exporter": "python",
   "pygments_lexer": "ipython3",
   "version": "3.10.4"
  }
 },
 "nbformat": 4,
 "nbformat_minor": 2
}
